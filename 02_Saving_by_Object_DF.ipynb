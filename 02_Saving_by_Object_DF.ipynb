{
 "cells": [
  {
   "cell_type": "code",
   "execution_count": 1,
   "metadata": {},
   "outputs": [],
   "source": [
    "### Import stuff\n",
    "from pandas import read_csv, Series\n",
    "from numpy import sum, isnan"
   ]
  },
  {
   "cell_type": "code",
   "execution_count": 2,
   "metadata": {},
   "outputs": [],
   "source": [
    "data_dir = '/home/shoaib/PSChallenge/'"
   ]
  },
  {
   "cell_type": "code",
   "execution_count": 3,
   "metadata": {},
   "outputs": [],
   "source": [
    "features_by_lc = read_csv(data_dir + 'gr_features_by_oid.csv')\n",
    "\n",
    "features_by_lc_g = features_by_lc[features_by_lc['band'] == 'g']\n",
    "features_by_lc_r = features_by_lc[features_by_lc['band'] == 'r']"
   ]
  },
  {
   "cell_type": "code",
   "execution_count": 4,
   "metadata": {},
   "outputs": [],
   "source": [
    "name_type_df = features_by_lc[['name', 'type']]\n",
    "name_type_df = name_type_df.drop_duplicates(subset=['name'], keep='first', ignore_index=True)\n",
    "\n",
    "features_by_lc_g = features_by_lc_g.drop(columns=['type', 'band', 'oid_alerce'])\n",
    "features_by_lc_r = features_by_lc_r.drop(columns=['type', 'band', 'oid_alerce'])"
   ]
  },
  {
   "cell_type": "code",
   "execution_count": 5,
   "metadata": {},
   "outputs": [
    {
     "name": "stderr",
     "output_type": "stream",
     "text": [
      "/tmp/ipykernel_8884/1636020784.py:7: RuntimeWarning: invalid value encountered in scalar divide\n",
      "  return (series[mask] * normalised_weights[mask]).sum() / normalised_weights[mask].sum()\n",
      "/tmp/ipykernel_8884/1636020784.py:9: DeprecationWarning: DataFrameGroupBy.apply operated on the grouping columns. This behavior is deprecated, and in a future version of pandas the grouping columns will be excluded from the operation. Either pass `include_groups=False` to exclude the groupings or explicitly select the grouping columns after groupby to silence this warning.\n",
      "  features_by_object_g = features_by_lc_g.groupby('name', as_index=False).apply(lambda group: Series({col: weighted_mean(group[col], group['n_good_det']) for col in features_by_lc_g.columns[1:]}))\n",
      "/tmp/ipykernel_8884/1636020784.py:7: RuntimeWarning: invalid value encountered in scalar divide\n",
      "  return (series[mask] * normalised_weights[mask]).sum() / normalised_weights[mask].sum()\n",
      "/tmp/ipykernel_8884/1636020784.py:10: DeprecationWarning: DataFrameGroupBy.apply operated on the grouping columns. This behavior is deprecated, and in a future version of pandas the grouping columns will be excluded from the operation. Either pass `include_groups=False` to exclude the groupings or explicitly select the grouping columns after groupby to silence this warning.\n",
      "  features_by_object_r = features_by_lc_r.groupby('name', as_index=False).apply(lambda group: Series({col: weighted_mean(group[col], group['n_good_det']) for col in features_by_lc_g.columns[1:]}))\n"
     ]
    }
   ],
   "source": [
    "def weighted_mean(series, weights):\n",
    "    series = series.to_numpy()\n",
    "    weights = weights.to_numpy()\n",
    "    normalised_weights = weights / sum(weights)\n",
    "    \n",
    "    mask = ~isnan(series)\n",
    "    return (series[mask] * normalised_weights[mask]).sum() / normalised_weights[mask].sum()\n",
    "\n",
    "features_by_object_g = features_by_lc_g.groupby('name', as_index=False).apply(lambda group: Series({col: weighted_mean(group[col], group['n_good_det']) for col in features_by_lc_g.columns[1:]}))\n",
    "features_by_object_r = features_by_lc_r.groupby('name', as_index=False).apply(lambda group: Series({col: weighted_mean(group[col], group['n_good_det']) for col in features_by_lc_g.columns[1:]}))"
   ]
  },
  {
   "cell_type": "code",
   "execution_count": 6,
   "metadata": {},
   "outputs": [],
   "source": [
    "features_by_object_g.columns = ['name'] + [f\"{col}_g\" for col in features_by_object_g.columns[1:]]\n",
    "features_by_object_r.columns = ['name'] + [f\"{col}_r\" for col in features_by_object_r.columns[1:]]\n",
    "\n",
    "features_by_object_g = features_by_object_g.rename(columns={'n_good_det_g': 'avg_good_det_g'})\n",
    "features_by_object_r = features_by_object_r.rename(columns={'n_good_det_r': 'avg_good_det_r'})"
   ]
  },
  {
   "cell_type": "code",
   "execution_count": 7,
   "metadata": {},
   "outputs": [],
   "source": [
    "features_by_object = features_by_object_g.merge(features_by_object_r, on='name', how='inner')\n",
    "\n",
    "features_by_object = features_by_object.merge(name_type_df, on='name', how='left')\n",
    "features_by_object_g = features_by_object_g.merge(name_type_df, on='name', how='left')\n",
    "features_by_object_r = features_by_object_r.merge(name_type_df, on='name', how='left')"
   ]
  },
  {
   "cell_type": "code",
   "execution_count": 8,
   "metadata": {},
   "outputs": [],
   "source": [
    "features_by_object.to_csv(data_dir + 'gr_features_by_object.csv', index=False)\n",
    "features_by_object_g.to_csv(data_dir + 'g_features_by_object.csv', index=False)\n",
    "features_by_object_r.to_csv(data_dir + 'r_features_by_object.csv', index=False)"
   ]
  },
  {
   "cell_type": "code",
   "execution_count": null,
   "metadata": {},
   "outputs": [],
   "source": []
  }
 ],
 "metadata": {
  "kernelspec": {
   "display_name": "fastai",
   "language": "python",
   "name": "python3"
  },
  "language_info": {
   "codemirror_mode": {
    "name": "ipython",
    "version": 3
   },
   "file_extension": ".py",
   "mimetype": "text/x-python",
   "name": "python",
   "nbconvert_exporter": "python",
   "pygments_lexer": "ipython3",
   "version": "3.9.21"
  }
 },
 "nbformat": 4,
 "nbformat_minor": 2
}
